{
 "cells": [
  {
   "cell_type": "code",
   "execution_count": 1,
   "metadata": {},
   "outputs": [],
   "source": [
    "%matplotlib inline\n",
    "\n",
    "import cv2\n",
    "import numpy as np\n",
    "import os.path as osp\n",
    "import matplotlib.pyplot as plt\n",
    "\n",
    "data_dir = 'us'"
   ]
  },
  {
   "cell_type": "markdown",
   "metadata": {},
   "source": [
    "Steps: \n",
    "    1. preprocess image\n",
    "    2. find possible characters in the scene\n",
    "    3. find matching characters from the possible characters(meaning these chars are a group)\n",
    "    4. find candidate plates from matching characters\n",
    "    5. find characters in the plate\n",
    "    6. recognize the chars in the plate\n",
    "    7. compare the results and get the results and confidence value"
   ]
  },
  {
   "cell_type": "code",
   "execution_count": 2,
   "metadata": {},
   "outputs": [],
   "source": [
    "image = cv2.imread(osp.join(data_dir, 'car1.jpg'))"
   ]
  },
  {
   "cell_type": "code",
   "execution_count": 3,
   "metadata": {},
   "outputs": [],
   "source": [
    "debug = True"
   ]
  },
  {
   "cell_type": "markdown",
   "metadata": {},
   "source": [
    "1. preprocess image"
   ]
  },
  {
   "cell_type": "code",
   "execution_count": 17,
   "metadata": {},
   "outputs": [],
   "source": [
    "def maxContrast(gray_image):\n",
    "    \"\"\"\n",
    "    construct tophat and blackhat images,\n",
    "    then add with original image,\n",
    "    return grayscale image + top hat - black hat\n",
    "    \"\"\"\n",
    "    struct_elem = cv2.getStructuringElement(cv2.MORPH_RECT, (3, 3))\n",
    "    img_tophat = cv2.morphologyEx(gray_image, cv2.MORPH_TOPHAT, struct_elem)\n",
    "    img_blackhat = cv2.morphologyEx(gray_image, cv2.MORPH_BLACKHAT, struct_elem)\n",
    "    gray_tophat = cv2.add(gray_image, img_tophat)\n",
    "    maxContrast_image = cv2.subtract(gray_tophat, img_blackhat)\n",
    "    \n",
    "    return maxContrast_image\n",
    "\n",
    "def preprocess(image):\n",
    "    ## 1.get the grayscale image\n",
    "    gray_image = cv2.cvtColor(image, cv2.COLOR_BGR2GRAY)\n",
    "    ## 2.get max_contrast_grayscale_image\n",
    "    maxContrast_image = maxContrast(gray_image)\n",
    "    ## 3.apply gaussian blur to remove noise\n",
    "    blur_image = cv2.GaussianBlur(maxContrast_image, (5,5), 0)\n",
    "    ## 4.change to binary image using adaptive threhold\n",
    "    binary_image = cv2.adaptiveThreshold(blur_image, 255.0, cv2.ADAPTIVE_THRESH_GAUSSIAN_C, \n",
    "                                         cv2.THRESH_BINARY_INV, 19, 9)\n",
    "    return gray_image, binary_image"
   ]
  },
  {
   "cell_type": "markdown",
   "metadata": {},
   "source": [
    "2. find possible characters in the scene"
   ]
  },
  {
   "cell_type": "code",
   "execution_count": 18,
   "metadata": {},
   "outputs": [],
   "source": [
    "class Character(object):\n",
    "    def __init__(self, contour):\n",
    "        \"\"\"\n",
    "        这里 x is column, y is row; \n",
    "        \"\"\"\n",
    "        self.contour = contour\n",
    "        ## topleft (x,y), and (width, height)\n",
    "        self.x, self.y, self.width, self.height = cv2.boundingRect(self.contour)\n",
    "        \n",
    "        self.area = self.width * self.height\n",
    "        self.center_x = self.x + self.width / 2\n",
    "        self.center_y = self.y + self.height / 2\n",
    "        self.diag_size = np.sqrt(self.width**2 + self.height**2)\n",
    "        self.aspect_ratio = self.width / self.height"
   ]
  },
  {
   "cell_type": "code",
   "execution_count": 19,
   "metadata": {},
   "outputs": [],
   "source": [
    "MIN_PIXEL_AREA = 80\n",
    "MIN_PIXEL_WIDTH = 2\n",
    "MIN_PIXEL_HEIGHT = 8\n",
    "MIN_ASPECT_RATIO = 0.25\n",
    "MAX_ASPECT_RATIO = 1.0\n",
    "def check_char_dims(possible_char):\n",
    "    \"\"\"\n",
    "    This only compare the shape and size of bb to guess if it is possible character\n",
    "    可能可以用 模型 来做\n",
    "    \"\"\"\n",
    "    if (possible_char.area > MIN_PIXEL_AREA and\n",
    "        possible_char.width > MIN_PIXEL_WIDTH and possible_char.height > MIN_PIXEL_HEIGHT and\n",
    "        possible_char.aspect_ratio > MIN_ASPECT_RATIO and possible_char.aspect_ratio < MAX_ASPECT_RATIO):\n",
    "        return True\n",
    "    else:\n",
    "        return False"
   ]
  },
  {
   "cell_type": "code",
   "execution_count": 20,
   "metadata": {
    "code_folding": []
   },
   "outputs": [],
   "source": [
    "def find_chars_in_scene(binary_image):\n",
    "    \"\"\"\n",
    "    find contours with its bounding box if it is a potential plate\n",
    "    \"\"\"\n",
    "    all_chars_in_scene = list()\n",
    "    image = binary_image.copy()\n",
    "    ## find all contours      \n",
    "    ### cv2.RETR_LIST: easiest way to retrive, we just need the contour\n",
    "    ### cv2.CHAIN_APPROX_SIMPLE: contour approximation method\n",
    "    cont_image, contours, hierarchy = cv2.findContours(image, cv2.RETR_LIST, cv2.CHAIN_APPROX_SIMPLE)\n",
    "    for i in range(0, len(contours)):\n",
    "        possible_char = Character(contours[i])\n",
    "        ## use shape heuristics to find whether this is a plate\n",
    "        if check_char_dims(possible_char):\n",
    "            all_chars_in_scene.append(possible_char)\n",
    "    if debug == True:\n",
    "        print('find %d/%d contours to be possible characters' % (len(all_chars_in_scene), len(contours)))\n",
    "        cv2.drawContours(cont_image, contours, -1, (255,255,255)) ## draw all contours\n",
    "        plt.imshow(cont_image)\n",
    "    return all_chars_in_scene"
   ]
  },
  {
   "cell_type": "code",
   "execution_count": 21,
   "metadata": {
    "scrolled": true
   },
   "outputs": [
    {
     "name": "stdout",
     "output_type": "stream",
     "text": [
      "find 26/258 contours to be possible characters\n"
     ]
    },
    {
     "data": {
      "image/png": "[encoded data removed]",
      "text/plain": [
       "<Figure size 432x288 with 1 Axes>"
      ]
     },
     "metadata": {
      "needs_background": "light"
     },
     "output_type": "display_data"
    }
   ],
   "source": [
    "gray_image, binary_image = preprocess(image)\n",
    "all_chars_in_scene = find_chars_in_scene(binary_image)"
   ]
  },
  {
   "cell_type": "markdown",
   "metadata": {},
   "source": [
    "3. divide characters from the possible characters into groups"
   ]
  },
  {
   "cell_type": "code",
   "execution_count": 43,
   "metadata": {},
   "outputs": [],
   "source": [
    "MAX_DIAG_SIZE_MULTIPLE_AWAY = 5.0\n",
    "MIN_DIAG_SIZE_MULTIPLE_AWAY = 0.3\n",
    "MAX_ANGLE_BETWEEN_CHARS = 12.0\n",
    "MAX_CHANGE_IN_AREA = 0.5\n",
    "MAX_CHANGE_IN_WIDTH = 0.8\n",
    "MAX_CHANGE_IN_HEIGHT = 0.2\n",
    "\n",
    "def angle_btw_chars(char_A, char_B):\n",
    "    \"\"\"\n",
    "    return the angle between characters in degree\n",
    "    \"\"\"\n",
    "    x_diff = np.abs(char_A.x - char_B.x)\n",
    "    y_diff = np.abs(char_A.y - char_B.y)\n",
    "    ## vertical to each other\n",
    "    if x_diff == 0:\n",
    "        angle = np.pi/2\n",
    "    else:\n",
    "        angle = np.arctan(y_diff / x_diff)\n",
    "    return angle*(180/np.pi)\n",
    "\n",
    "def check_char_dims(char_A, char_B):\n",
    "    distance = np.sqrt((char_A.x - char_B.x)**2 + (char_A.y - char_B.y)**2)\n",
    "    angle_diff = angle_btw_chars(char_A, char_B)\n",
    "    area_diff_ratio = np.abs(char_A.area - char_B.area) / char_A.area\n",
    "    width_diff_ratio = np.abs(char_A.width - char_B.width) / char_A.width\n",
    "    height_diff_ratio = np.abs(char_A.height - char_B.height) / char_A.height\n",
    "    \n",
    "    if (distance < char_A.diag_size * MAX_DIAG_SIZE_MULTIPLE_AWAY and angle_diff < MAX_ANGLE_BETWEEN_CHARS and\n",
    "            area_diff_ratio < MAX_CHANGE_IN_AREA and width_diff_ratio < MAX_CHANGE_IN_WIDTH and\n",
    "            height_diff_ratio < MAX_CHANGE_IN_HEIGHT):\n",
    "        return True\n",
    "    else:\n",
    "        return False"
   ]
  },
  {
   "cell_type": "code",
   "execution_count": 23,
   "metadata": {
    "code_folding": []
   },
   "outputs": [],
   "source": [
    "MIN_NUMBER_OF_MATCHING_CHARS = 3\n",
    "\n",
    "def find_char_groups(all_chars_in_scene):\n",
    "    \"\"\"\n",
    "    找到 list of matching chars, group 在一起变成新的 list, 删掉 原来list 中的这些 matching chars\n",
    "    重复找 这种 group, 最后 return list of group\n",
    "    ==== 问题: 没有找到 longest possible group, 可能会遗失一些有用的 group ====\n",
    "    \"\"\"\n",
    "    all_groups = list()\n",
    "    all_chars = np.copy(all_chars_in_scene)\n",
    "    fail_time = 0\n",
    "    while(len(all_chars) != 0):\n",
    "        char_A = all_chars[0]\n",
    "        group = [char_A]\n",
    "        for i in range(1,len(all_chars)):\n",
    "            char_B = all_chars[i]\n",
    "            if check_char_dims(char_A, char_B):\n",
    "                group.append(char_B)\n",
    "        ## invalid group\n",
    "        if len(group) < MIN_NUMBER_OF_MATCHING_CHARS:\n",
    "            tmp = all_chars[1:]\n",
    "            all_chars[-1] = char_A\n",
    "            all_chars[:-1] = tmp\n",
    "            fail_time += 1\n",
    "            ## the rest chars will not form group\n",
    "            if fail_time == len(all_chars):\n",
    "                break\n",
    "        else:\n",
    "            fail_time = 0\n",
    "            all_groups.append(group)\n",
    "            all_chars = list(set(all_chars) - set(group))\n",
    "    return all_groups"
   ]
  },
  {
   "cell_type": "code",
   "execution_count": 24,
   "metadata": {},
   "outputs": [],
   "source": [
    "all_groups = find_char_groups(all_chars_in_scene)"
   ]
  },
  {
   "cell_type": "code",
   "execution_count": 30,
   "metadata": {
    "scrolled": false
   },
   "outputs": [
    {
     "name": "stdout",
     "output_type": "stream",
     "text": [
      "249 374 12 28\n",
      "264 375 13 28\n",
      "281 375 13 28\n",
      "311 375 13 28\n",
      "328 376 12 28\n",
      "344 376 9 28\n",
      "----\n",
      "425 179 10 16\n",
      "472 178 9 16\n",
      "493 177 7 13\n",
      "----\n"
     ]
    }
   ],
   "source": [
    "for group in all_groups:\n",
    "    for char in group:\n",
    "        print(char.x, char.y, char.width, char.height)\n",
    "    print('----')"
   ]
  },
  {
   "cell_type": "markdown",
   "metadata": {},
   "source": [
    "4. find plates from character groups"
   ]
  },
  {
   "cell_type": "code",
   "execution_count": 33,
   "metadata": {},
   "outputs": [],
   "source": [
    "class Plate(object):\n",
    "    def __init__(self):\n",
    "        self.plate_image = None\n",
    "        self.gray_image = None\n",
    "        self.binary_image = None\n",
    "        ## rr_loc_plate: ((x,y), (width,height), angle)\n",
    "        self.rr_loc_plate = None\n",
    "        self.chars = \"\""
   ]
  },
  {
   "cell_type": "code",
   "execution_count": 40,
   "metadata": {},
   "outputs": [],
   "source": [
    "PLATE_WIDTH_PADDING_FACTOR = 1.3\n",
    "PLATE_HEIGHT_PADDING_FACTOR = 1.5\n",
    "\n",
    "def extract_all_plates(image, all_groups):\n",
    "    \"\"\"\n",
    "    convert groups to one plate object; return list of possible plates\n",
    "    \"\"\"\n",
    "    all_plates = list()\n",
    "    for group in all_groups:  \n",
    "        plate = Plate()\n",
    "        ## sort chars from left to right based on x position\n",
    "        group.sort(key = lambda a: a.x)\n",
    "        center_x = (group[0].x + group[-1].x)/2\n",
    "        center_y = (group[0].y + group[-1].y)/2\n",
    "        ## allow a larger bounding box\n",
    "        plate_width = int((group[-1].width + group[-1].x - group[0].x)*PLATE_WIDTH_PADDING_FACTOR )\n",
    "        plate_height = int(np.mean(list(map(lambda a: a.height, group)))*PLATE_HEIGHT_PADDING_FACTOR )\n",
    "        \n",
    "        ## calculate correction angle between two plates\n",
    "        height_diff = group[-1].y - group[0].y\n",
    "        distance = np.sqrt((group[-1].x - group[0].x)**2 + (group[-1].y - group[0].y)**2 )\n",
    "        angle = np.arcsin(height_diff / distance)\n",
    "        angle = angle * (180 / np.pi)\n",
    "        plate.rr_loc_plate = ( (center_x, center_y), (plate_width, plate_height), angle)\n",
    "        ## rotate the plate using angle, affine transform\n",
    "        rotation_mat = cv2.getRotationMatrix2D(plate.rr_loc_plate[0], angle, scale=1)\n",
    "        height, width, _ = image.shape\n",
    "        image_rotate = cv2.warpAffine(image, rotation_mat, (width, height))\n",
    "        image_crop = cv2.getRectSubPix(image_rotate, plate.rr_loc_plate[1], plate.rr_loc_plate[0] )\n",
    "        plate.plate_image = image_crop\n",
    "        \n",
    "        if plate.plate_image is not None:\n",
    "            all_plates.append(plate)\n",
    "        \n",
    "    return all_plates"
   ]
  },
  {
   "cell_type": "code",
   "execution_count": 41,
   "metadata": {
    "scrolled": true
   },
   "outputs": [
    {
     "data": {
      "image/png": "[encoded data removed]",
      "text/plain": [
       "<Figure size 432x288 with 1 Axes>"
      ]
     },
     "metadata": {
      "needs_background": "light"
     },
     "output_type": "display_data"
    }
   ],
   "source": [
    "all_plates = extract_all_plates(image, all_groups)\n",
    "if debug == True:\n",
    "    tmp_image = np.copy(image)\n",
    "    for i in range(len(all_plates)):\n",
    "        box_points = cv2.boxPoints(all_plates[i].rr_loc_plate)\n",
    "        ## draw bb\n",
    "        cv2.line(tmp_image, tuple(box_points[0]), tuple(box_points[1]), (255,0,0), 2)\n",
    "        cv2.line(tmp_image, tuple(box_points[1]), tuple(box_points[2]), (255,0,0), 2)\n",
    "        cv2.line(tmp_image, tuple(box_points[2]), tuple(box_points[3]), (255,0,0), 2)\n",
    "        cv2.line(tmp_image, tuple(box_points[3]), tuple(box_points[0]), (255,0,0), 2)\n",
    "    plt.imshow(tmp_image)"
   ]
  },
  {
   "cell_type": "markdown",
   "metadata": {},
   "source": [
    "5. find characters in the plate"
   ]
  },
  {
   "cell_type": "code",
   "execution_count": 42,
   "metadata": {},
   "outputs": [],
   "source": [
    "def segment_chars(binary_image):\n",
    "    image = np.copy(binary_image)\n",
    "    cont_image, contours, hierarchy = cv2.findContours(image, cv2.RETR_LIST, cv2.CHAIN_APPROX_SIMPLE)\n",
    "    all_chars = list()\n",
    "    for contour in contours:\n",
    "        char = Character(contour)\n",
    "        if check_char_dims(char):\n",
    "            all_chars.append(char)\n",
    "    return all_chars"
   ]
  },
  {
   "cell_type": "code",
   "execution_count": 44,
   "metadata": {},
   "outputs": [],
   "source": [
    "def remove_overlapping_chars(group):\n",
    "    \"\"\"\n",
    "    remove the smaller one of overlapping chars (compare area)\n",
    "    \"\"\"\n",
    "    final_group = np.copy(group)\n",
    "    for char_A in group:\n",
    "        for char_B in group:\n",
    "            if char_A == char_B: continue\n",
    "            distance = np.sqrt((char_A.x - char_B.x)**2 + (char_A.y - char_B.y)**2)\n",
    "            ## overlapping chars\n",
    "            if distance < char_A.diag_size * MIN_DIAG_SIZE_MULTIPLE_AWAY:\n",
    "                if char_A.area > char_B.area and char_B in final_group:\n",
    "                    final_group.remove(char_B)\n",
    "                if char_B.area > char_A.area and char_A in final_group:\n",
    "                    final_group.remove(char_A)\n",
    "    return final_group"
   ]
  },
  {
   "cell_type": "code",
   "execution_count": 48,
   "metadata": {},
   "outputs": [],
   "source": [
    "RESIZED_CHAR_IMAGE_WIDTH = 20\n",
    "RESIZED_CHAR_IMAGE_HEIGHT = 30\n",
    "def recognize_chars_in_plate(binary_image, all_groups):\n",
    "    \"\"\"\n",
    "    Assume the longest group is the correct group in the plate\n",
    "    \"\"\"\n",
    "    all_groups.sort(lambda a : len(a))\n",
    "    group = np.copy(all_groups[-1])\n",
    "    group.sort(lambda a: a.x)\n",
    "    image_thresh_color = np.zeros((binary_image.shape[0], binary_image.shape[1], 3), np.uint8)\n",
    "    cv2.cvtColor(binary_image, cv2.COLOR_GRAY2BGR, image_thresh_color)\n",
    "    number = \"\"\n",
    "    for char in group:\n",
    "        ## top left corner\n",
    "        pt1 = (char.x, char.y)\n",
    "        ## bottom right corner\n",
    "        pt2 = (char.x + char.width, char.y + char.height)\n",
    "        ## draw rectangle around char\n",
    "        cv2.rectangle(image_thresh_color, pt1, pt2, (0,255,0), 2)\n",
    "        ## crop char outof plate\n",
    "        image_ROI = binary_image[pt1[1]:pt2[1], pt1[0]:pt2[0]]\n",
    "        image_ROI = cv2.resize(image_ROI, (RESIZED_CHAR_IMAGE_WIDTH, RESIZED_CHAR_IMAGE_HEIGHT) )\n",
    "        \"\"\"\n",
    "        the rest is recognition of character\n",
    "        \"\"\"\n",
    "        char = model.predict(image_ROI)\n",
    "        number += char\n",
    "        \n",
    "    if debug == True:\n",
    "        plt.figure()\n",
    "        plt.imshow(image_thresh_color)\n",
    "    return number"
   ]
  },
  {
   "cell_type": "code",
   "execution_count": 50,
   "metadata": {},
   "outputs": [],
   "source": [
    "def find_char_groups_in_plates(all_plates):\n",
    "    for plate_idx in range(len(all_plates)):\n",
    "        plate = all_plates[plate_idx]\n",
    "        plate.gray_image, plate.binary_image = preprocess(plate.plate_image)\n",
    "        ## increase size for better detection\n",
    "        plate.binary_image = cv2.resize(plate.binary_image, (0, 0), fx = 1.6, fy = 1.6)\n",
    "        threshold, plate.binary_image = cv2.threshold(plate.binary_image, 0.0, 255.0, \n",
    "                                                                cv2.THRESH_BINARY | cv2.THRESH_OTSU)\n",
    "        ## segment characters in the plate\n",
    "        all_chars = segment_chars(plate.binary_image)\n",
    "        ## show contours\n",
    "        if debug == True:\n",
    "            width, height = plate.rr_loc_plate[1]\n",
    "            tmp = np.zeros((height, width, 3), np.uint8)\n",
    "            all_contours = list()\n",
    "            for char in all_chars:\n",
    "                all_contours.append(char.contour)\n",
    "            cv2.drawContours(tmp, contours, -1, (255, 255, 255))\n",
    "            plt.figure()\n",
    "            plt.imshow(tmp)\n",
    "        \n",
    "        ## find groups of chars in plate ?????\n",
    "        all_groups = find_char_groups(all_chars)\n",
    "        if len(all_groups) == 0: continue\n",
    "        else:\n",
    "            ## remove overlapping characters\n",
    "            for group_idx in range(len(all_groups)):\n",
    "                group = all_groups[group_idx]\n",
    "                group.sort(lambda a: a.x)\n",
    "                group = remove_overlapping_chars(group)\n",
    "                all_groups[group_idx] = group\n",
    "            ## recognize the numbers in the plate\n",
    "            number = recognize_chars_in_plate(plate.binary_image, all_groups)\n",
    "            plate.chars = number\n",
    "            all_plates[plate_idx] = plate\n",
    "    return all_plates"
   ]
  },
  {
   "cell_type": "code",
   "execution_count": null,
   "metadata": {},
   "outputs": [],
   "source": [
    "all_plates = find_char_groups_in_plates(all_plates)\n",
    "for plate in all_plates:\n",
    "    print('recognized number: ', plate.chars)"
   ]
  },
  {
   "cell_type": "code",
   "execution_count": null,
   "metadata": {},
   "outputs": [],
   "source": []
  },
  {
   "cell_type": "code",
   "execution_count": null,
   "metadata": {},
   "outputs": [],
   "source": []
  }
 ],
 "metadata": {
  "kernelspec": {
   "display_name": "Python 3",
   "language": "python",
   "name": "python3"
  },
  "language_info": {
   "codemirror_mode": {
    "name": "ipython",
    "version": 3
   },
   "file_extension": ".py",
   "mimetype": "text/x-python",
   "name": "python",
   "nbconvert_exporter": "python",
   "pygments_lexer": "ipython3",
   "version": "3.7.1"
  },
  "varInspector": {
   "cols": {
    "lenName": 16,
    "lenType": 16,
    "lenVar": 40
   },
   "kernels_config": {
    "python": {
     "delete_cmd_postfix": "",
     "delete_cmd_prefix": "del ",
     "library": "var_list.py",
     "varRefreshCmd": "print(var_dic_list())"
    },
    "r": {
     "delete_cmd_postfix": ") ",
     "delete_cmd_prefix": "rm(",
     "library": "var_list.r",
     "varRefreshCmd": "cat(var_dic_list()) "
    }
   },
   "types_to_exclude": [
    "module",
    "function",
    "builtin_function_or_method",
    "instance",
    "_Feature"
   ],
   "window_display": false
  }
 },
 "nbformat": 4,
 "nbformat_minor": 2
}
